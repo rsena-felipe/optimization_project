{
 "cells": [
  {
   "cell_type": "code",
   "execution_count": 10,
   "metadata": {},
   "outputs": [],
   "source": [
    "import pandas as pd\n",
    "import tensorflow as tf\n",
    "import tensorflow \n",
    "\n",
    "from tensorflow import keras\n",
    "from keras.models import Sequential\n",
    "from keras.layers import Dense\n",
    "from keras.wrappers.scikit_learn import KerasClassifier\n",
    "from sklearn.model_selection import cross_val_score\n",
    "from sklearn.preprocessing import LabelEncoder\n",
    "from sklearn.model_selection import StratifiedKFold\n",
    "from sklearn.preprocessing import StandardScaler\n",
    "from sklearn.pipeline import Pipeline\n",
    "from keras.callbacks import CSVLogger, EarlyStopping\n",
    "from sklearn.model_selection import train_test_split # Only for spliting data\n",
    "from sklearn import svm"
   ]
  },
  {
   "cell_type": "markdown",
   "metadata": {},
   "source": [
    "# Neural Network"
   ]
  },
  {
   "cell_type": "code",
   "execution_count": 2,
   "metadata": {},
   "outputs": [],
   "source": [
    "############# Read Data from the 5 components of PCA ############\n",
    "# Import dataset\n",
    "data = pd.read_csv(\"./data/reduced_pca_5.csv\")\n",
    "\n",
    "# Add label to the dataset, the first 36499 are electron neutrinos (-1 class) and the others 96565 are muon neutrinos (+1)\n",
    "# Seperate neutrinos from electrons and muons\n",
    "electron = data.head(36499)\n",
    "muon = data.tail(96565)\n",
    "\n",
    "del data\n",
    "\n",
    "electron[\"neutrino\"] = -1\n",
    "muon[\"neutrino\"] = 1\n",
    "\n",
    "data = electron.append(muon)\n",
    "\n",
    "del electron\n",
    "del muon\n",
    "\n",
    "# Splitting Train and test set\n",
    "X = data.iloc[:,0:5].astype(float)\n",
    "y = data[\"neutrino\"]\n",
    "\n",
    "# encode class values as integers\n",
    "encoder = LabelEncoder()\n",
    "encoder.fit(y)\n",
    "encoded_Y = encoder.transform(y)"
   ]
  },
  {
   "cell_type": "markdown",
   "metadata": {},
   "source": [
    "### 2. Defining Keras Model"
   ]
  },
  {
   "cell_type": "code",
   "execution_count": 3,
   "metadata": {},
   "outputs": [],
   "source": [
    "# create model\n",
    "model = Sequential()\n",
    "model.add(Dense(60, input_dim=5, activation='relu'))\n",
    "model.add(Dense(1, activation='sigmoid'))"
   ]
  },
  {
   "cell_type": "code",
   "execution_count": 4,
   "metadata": {},
   "outputs": [],
   "source": [
    "# Compile model\n",
    "model.compile(loss='binary_crossentropy', optimizer='adam', weighted_metrics=['accuracy'], metrics=['accuracy'])"
   ]
  },
  {
   "cell_type": "code",
   "execution_count": 5,
   "metadata": {},
   "outputs": [
    {
     "name": "stdout",
     "output_type": "stream",
     "text": [
      "Model: \"sequential\"\n",
      "_________________________________________________________________\n",
      "Layer (type)                 Output Shape              Param #   \n",
      "=================================================================\n",
      "dense (Dense)                (None, 60)                360       \n",
      "_________________________________________________________________\n",
      "dense_1 (Dense)              (None, 1)                 61        \n",
      "=================================================================\n",
      "Total params: 421\n",
      "Trainable params: 421\n",
      "Non-trainable params: 0\n",
      "_________________________________________________________________\n"
     ]
    }
   ],
   "source": [
    "model.summary()"
   ]
  },
  {
   "cell_type": "code",
   "execution_count": 6,
   "metadata": {},
   "outputs": [],
   "source": [
    "csv_logger = CSVLogger('./results/log_simple_neural_net.csv', append=True, separator=';')\n",
    "# early = EarlyStopping(monitor='val_acc', min_delta=0, patience=20, verbose=1, mode='auto')"
   ]
  },
  {
   "cell_type": "code",
   "execution_count": 7,
   "metadata": {},
   "outputs": [
    {
     "name": "stdout",
     "output_type": "stream",
     "text": [
      "Epoch 1/120\n",
      "468/468 [==============================] - 2s 5ms/step - loss: 0.9254 - accuracy: 0.6399 - weighted_accuracy: 0.7212 - val_loss: 0.5494 - val_accuracy: 0.7999 - val_weighted_accuracy: 0.7999\n",
      "Epoch 2/120\n",
      "468/468 [==============================] - 3s 6ms/step - loss: 0.7489 - accuracy: 0.7875 - weighted_accuracy: 0.7881 - val_loss: 0.5246 - val_accuracy: 0.7809 - val_weighted_accuracy: 0.7809\n",
      "Epoch 3/120\n",
      "468/468 [==============================] - 2s 5ms/step - loss: 0.7162 - accuracy: 0.7884 - weighted_accuracy: 0.7972 - val_loss: 0.4815 - val_accuracy: 0.7914 - val_weighted_accuracy: 0.7914\n",
      "Epoch 4/120\n",
      "468/468 [==============================] - 2s 5ms/step - loss: 0.6938 - accuracy: 0.7881 - weighted_accuracy: 0.8044 - val_loss: 0.4643 - val_accuracy: 0.7849 - val_weighted_accuracy: 0.7849\n",
      "Epoch 5/120\n",
      "468/468 [==============================] - 2s 5ms/step - loss: 0.6777 - accuracy: 0.7896 - weighted_accuracy: 0.8108 - val_loss: 0.4885 - val_accuracy: 0.7632 - val_weighted_accuracy: 0.7632\n",
      "Epoch 6/120\n",
      "468/468 [==============================] - 2s 5ms/step - loss: 0.6688 - accuracy: 0.7895 - weighted_accuracy: 0.8135 - val_loss: 0.4632 - val_accuracy: 0.7731 - val_weighted_accuracy: 0.7731\n",
      "Epoch 7/120\n",
      "468/468 [==============================] - 2s 5ms/step - loss: 0.6634 - accuracy: 0.7904 - weighted_accuracy: 0.8149 - val_loss: 0.4712 - val_accuracy: 0.7679 - val_weighted_accuracy: 0.7679\n",
      "Epoch 8/120\n",
      "468/468 [==============================] - 2s 5ms/step - loss: 0.6602 - accuracy: 0.7910 - weighted_accuracy: 0.8161 - val_loss: 0.4257 - val_accuracy: 0.7876 - val_weighted_accuracy: 0.7876\n",
      "Epoch 9/120\n",
      "468/468 [==============================] - 2s 5ms/step - loss: 0.6581 - accuracy: 0.7912 - weighted_accuracy: 0.8165 - val_loss: 0.4660 - val_accuracy: 0.7687 - val_weighted_accuracy: 0.7687\n",
      "Epoch 10/120\n",
      "468/468 [==============================] - 2s 5ms/step - loss: 0.6565 - accuracy: 0.7915 - weighted_accuracy: 0.8171 - val_loss: 0.4265 - val_accuracy: 0.7851 - val_weighted_accuracy: 0.7851\n",
      "Epoch 11/120\n",
      "468/468 [==============================] - 2s 5ms/step - loss: 0.6549 - accuracy: 0.7912 - weighted_accuracy: 0.8175 - val_loss: 0.4081 - val_accuracy: 0.7945 - val_weighted_accuracy: 0.7945\n",
      "Epoch 12/120\n",
      "468/468 [==============================] - 2s 4ms/step - loss: 0.6538 - accuracy: 0.7914 - weighted_accuracy: 0.8177 - val_loss: 0.4390 - val_accuracy: 0.7788 - val_weighted_accuracy: 0.7788\n",
      "Epoch 13/120\n",
      "468/468 [==============================] - 2s 4ms/step - loss: 0.6526 - accuracy: 0.7916 - weighted_accuracy: 0.8182 - val_loss: 0.4127 - val_accuracy: 0.7888 - val_weighted_accuracy: 0.7888\n",
      "Epoch 14/120\n",
      "468/468 [==============================] - 2s 5ms/step - loss: 0.6518 - accuracy: 0.7913 - weighted_accuracy: 0.8182 - val_loss: 0.4328 - val_accuracy: 0.7803 - val_weighted_accuracy: 0.7803\n",
      "Epoch 15/120\n",
      "468/468 [==============================] - 2s 5ms/step - loss: 0.6509 - accuracy: 0.7915 - weighted_accuracy: 0.8185 - val_loss: 0.4229 - val_accuracy: 0.7836 - val_weighted_accuracy: 0.7836\n",
      "Epoch 16/120\n",
      "468/468 [==============================] - 2s 4ms/step - loss: 0.6502 - accuracy: 0.7914 - weighted_accuracy: 0.8189 - val_loss: 0.4498 - val_accuracy: 0.7711 - val_weighted_accuracy: 0.7711\n",
      "Epoch 17/120\n",
      "468/468 [==============================] - 2s 4ms/step - loss: 0.6494 - accuracy: 0.7919 - weighted_accuracy: 0.8194 - val_loss: 0.4526 - val_accuracy: 0.7697 - val_weighted_accuracy: 0.7697\n",
      "Epoch 18/120\n",
      "468/468 [==============================] - 2s 4ms/step - loss: 0.6490 - accuracy: 0.7917 - weighted_accuracy: 0.8195 - val_loss: 0.4412 - val_accuracy: 0.7763 - val_weighted_accuracy: 0.7763\n",
      "Epoch 19/120\n",
      "468/468 [==============================] - 2s 4ms/step - loss: 0.6483 - accuracy: 0.7914 - weighted_accuracy: 0.8194 - val_loss: 0.4098 - val_accuracy: 0.7882 - val_weighted_accuracy: 0.7882\n",
      "Epoch 20/120\n",
      "468/468 [==============================] - 2s 5ms/step - loss: 0.6478 - accuracy: 0.7919 - weighted_accuracy: 0.8197 - val_loss: 0.4591 - val_accuracy: 0.7669 - val_weighted_accuracy: 0.7669\n",
      "Epoch 21/120\n",
      "468/468 [==============================] - 2s 4ms/step - loss: 0.6471 - accuracy: 0.7919 - weighted_accuracy: 0.8201 - val_loss: 0.4410 - val_accuracy: 0.7763 - val_weighted_accuracy: 0.7763\n",
      "Epoch 22/120\n",
      "468/468 [==============================] - 2s 4ms/step - loss: 0.6467 - accuracy: 0.7921 - weighted_accuracy: 0.8202 - val_loss: 0.4425 - val_accuracy: 0.7739 - val_weighted_accuracy: 0.7739\n",
      "Epoch 23/120\n",
      "468/468 [==============================] - 2s 4ms/step - loss: 0.6462 - accuracy: 0.7919 - weighted_accuracy: 0.8200 - val_loss: 0.4709 - val_accuracy: 0.7604 - val_weighted_accuracy: 0.7604\n",
      "Epoch 24/120\n",
      "468/468 [==============================] - 2s 5ms/step - loss: 0.6458 - accuracy: 0.7920 - weighted_accuracy: 0.8204 - val_loss: 0.4431 - val_accuracy: 0.7720 - val_weighted_accuracy: 0.7720\n",
      "Epoch 25/120\n",
      "468/468 [==============================] - 2s 4ms/step - loss: 0.6457 - accuracy: 0.7922 - weighted_accuracy: 0.8205 - val_loss: 0.4375 - val_accuracy: 0.7752 - val_weighted_accuracy: 0.7752\n",
      "Epoch 26/120\n",
      "468/468 [==============================] - 2s 5ms/step - loss: 0.6452 - accuracy: 0.7923 - weighted_accuracy: 0.8207 - val_loss: 0.4336 - val_accuracy: 0.7770 - val_weighted_accuracy: 0.7770\n",
      "Epoch 27/120\n",
      "468/468 [==============================] - 2s 5ms/step - loss: 0.6447 - accuracy: 0.7923 - weighted_accuracy: 0.8209 - val_loss: 0.4196 - val_accuracy: 0.7858 - val_weighted_accuracy: 0.7858\n",
      "Epoch 28/120\n",
      "468/468 [==============================] - 2s 5ms/step - loss: 0.6444 - accuracy: 0.7924 - weighted_accuracy: 0.8209 - val_loss: 0.4555 - val_accuracy: 0.7687 - val_weighted_accuracy: 0.7687\n",
      "Epoch 29/120\n",
      "468/468 [==============================] - 2s 4ms/step - loss: 0.6439 - accuracy: 0.7929 - weighted_accuracy: 0.8211 - val_loss: 0.4726 - val_accuracy: 0.7594 - val_weighted_accuracy: 0.7594\n",
      "Epoch 30/120\n",
      "468/468 [==============================] - 2s 4ms/step - loss: 0.6439 - accuracy: 0.7927 - weighted_accuracy: 0.8214 - val_loss: 0.4589 - val_accuracy: 0.7661 - val_weighted_accuracy: 0.7661\n",
      "Epoch 31/120\n",
      "468/468 [==============================] - 2s 4ms/step - loss: 0.6433 - accuracy: 0.7929 - weighted_accuracy: 0.8216 - val_loss: 0.4304 - val_accuracy: 0.7799 - val_weighted_accuracy: 0.7799\n",
      "Epoch 32/120\n",
      "468/468 [==============================] - 3s 5ms/step - loss: 0.6431 - accuracy: 0.7926 - weighted_accuracy: 0.8215 - val_loss: 0.4255 - val_accuracy: 0.7819 - val_weighted_accuracy: 0.7819\n",
      "Epoch 33/120\n",
      "468/468 [==============================] - 2s 5ms/step - loss: 0.6425 - accuracy: 0.7932 - weighted_accuracy: 0.8216 - val_loss: 0.4462 - val_accuracy: 0.7702 - val_weighted_accuracy: 0.7702\n",
      "Epoch 34/120\n",
      "468/468 [==============================] - 2s 5ms/step - loss: 0.6425 - accuracy: 0.7929 - weighted_accuracy: 0.8216 - val_loss: 0.4303 - val_accuracy: 0.7791 - val_weighted_accuracy: 0.7791\n",
      "Epoch 35/120\n",
      "468/468 [==============================] - 2s 4ms/step - loss: 0.6421 - accuracy: 0.7929 - weighted_accuracy: 0.8216 - val_loss: 0.4062 - val_accuracy: 0.7891 - val_weighted_accuracy: 0.7891\n",
      "Epoch 36/120\n",
      "468/468 [==============================] - 2s 4ms/step - loss: 0.6416 - accuracy: 0.7928 - weighted_accuracy: 0.8216 - val_loss: 0.4214 - val_accuracy: 0.7829 - val_weighted_accuracy: 0.7829\n",
      "Epoch 37/120\n",
      "468/468 [==============================] - 2s 4ms/step - loss: 0.6413 - accuracy: 0.7937 - weighted_accuracy: 0.8219 - val_loss: 0.4290 - val_accuracy: 0.7808 - val_weighted_accuracy: 0.7808\n",
      "Epoch 38/120\n",
      "468/468 [==============================] - 2s 4ms/step - loss: 0.6408 - accuracy: 0.7935 - weighted_accuracy: 0.8220 - val_loss: 0.4276 - val_accuracy: 0.7811 - val_weighted_accuracy: 0.7811\n",
      "Epoch 39/120\n",
      "468/468 [==============================] - 2s 4ms/step - loss: 0.6406 - accuracy: 0.7937 - weighted_accuracy: 0.8223 - val_loss: 0.4113 - val_accuracy: 0.7882 - val_weighted_accuracy: 0.7882\n",
      "Epoch 40/120\n",
      "468/468 [==============================] - 2s 4ms/step - loss: 0.6401 - accuracy: 0.7935 - weighted_accuracy: 0.8220 - val_loss: 0.4108 - val_accuracy: 0.7894 - val_weighted_accuracy: 0.7894\n",
      "Epoch 41/120\n",
      "468/468 [==============================] - 2s 4ms/step - loss: 0.6396 - accuracy: 0.7943 - weighted_accuracy: 0.8225 - val_loss: 0.4213 - val_accuracy: 0.7830 - val_weighted_accuracy: 0.7830\n",
      "Epoch 42/120\n",
      "468/468 [==============================] - 2s 4ms/step - loss: 0.6394 - accuracy: 0.7946 - weighted_accuracy: 0.8225 - val_loss: 0.4507 - val_accuracy: 0.7705 - val_weighted_accuracy: 0.7705\n",
      "Epoch 43/120\n",
      "468/468 [==============================] - 2s 4ms/step - loss: 0.6391 - accuracy: 0.7948 - weighted_accuracy: 0.8229 - val_loss: 0.4630 - val_accuracy: 0.7663 - val_weighted_accuracy: 0.7663\n",
      "Epoch 44/120\n",
      "468/468 [==============================] - 2s 4ms/step - loss: 0.6388 - accuracy: 0.7949 - weighted_accuracy: 0.8228 - val_loss: 0.4196 - val_accuracy: 0.7848 - val_weighted_accuracy: 0.7848\n",
      "Epoch 45/120\n",
      "468/468 [==============================] - 2s 4ms/step - loss: 0.6384 - accuracy: 0.7949 - weighted_accuracy: 0.8229 - val_loss: 0.4134 - val_accuracy: 0.7876 - val_weighted_accuracy: 0.7876\n",
      "Epoch 46/120\n",
      "468/468 [==============================] - 2s 4ms/step - loss: 0.6380 - accuracy: 0.7950 - weighted_accuracy: 0.8227 - val_loss: 0.4127 - val_accuracy: 0.7894 - val_weighted_accuracy: 0.7894\n",
      "Epoch 47/120\n",
      "468/468 [==============================] - 2s 4ms/step - loss: 0.6379 - accuracy: 0.7953 - weighted_accuracy: 0.8231 - val_loss: 0.4070 - val_accuracy: 0.7924 - val_weighted_accuracy: 0.7924\n",
      "Epoch 48/120\n",
      "468/468 [==============================] - 2s 3ms/step - loss: 0.6378 - accuracy: 0.7957 - weighted_accuracy: 0.8231 - val_loss: 0.4164 - val_accuracy: 0.7882 - val_weighted_accuracy: 0.7882\n",
      "Epoch 49/120\n",
      "468/468 [==============================] - 2s 4ms/step - loss: 0.6373 - accuracy: 0.7962 - weighted_accuracy: 0.8236 - val_loss: 0.4233 - val_accuracy: 0.7843 - val_weighted_accuracy: 0.7843\n",
      "Epoch 50/120\n",
      "468/468 [==============================] - 2s 4ms/step - loss: 0.6369 - accuracy: 0.7964 - weighted_accuracy: 0.8236 - val_loss: 0.4190 - val_accuracy: 0.7858 - val_weighted_accuracy: 0.7858\n",
      "Epoch 51/120\n",
      "468/468 [==============================] - 2s 4ms/step - loss: 0.6368 - accuracy: 0.7965 - weighted_accuracy: 0.8235 - val_loss: 0.4257 - val_accuracy: 0.7830 - val_weighted_accuracy: 0.7830\n",
      "Epoch 52/120\n",
      "468/468 [==============================] - 2s 4ms/step - loss: 0.6364 - accuracy: 0.7966 - weighted_accuracy: 0.8237 - val_loss: 0.4480 - val_accuracy: 0.7731 - val_weighted_accuracy: 0.7731\n",
      "Epoch 53/120\n",
      "468/468 [==============================] - 2s 4ms/step - loss: 0.6362 - accuracy: 0.7967 - weighted_accuracy: 0.8239 - val_loss: 0.3978 - val_accuracy: 0.7988 - val_weighted_accuracy: 0.7988\n",
      "Epoch 54/120\n",
      "468/468 [==============================] - 2s 4ms/step - loss: 0.6358 - accuracy: 0.7971 - weighted_accuracy: 0.8239 - val_loss: 0.4230 - val_accuracy: 0.7864 - val_weighted_accuracy: 0.7864\n",
      "Epoch 55/120\n",
      "468/468 [==============================] - 2s 3ms/step - loss: 0.6357 - accuracy: 0.7973 - weighted_accuracy: 0.8240 - val_loss: 0.4253 - val_accuracy: 0.7849 - val_weighted_accuracy: 0.7849\n",
      "Epoch 56/120\n",
      "468/468 [==============================] - 2s 4ms/step - loss: 0.6353 - accuracy: 0.7977 - weighted_accuracy: 0.8245 - val_loss: 0.4361 - val_accuracy: 0.7799 - val_weighted_accuracy: 0.7799\n",
      "Epoch 57/120\n",
      "468/468 [==============================] - 2s 5ms/step - loss: 0.6350 - accuracy: 0.7975 - weighted_accuracy: 0.8243 - val_loss: 0.4347 - val_accuracy: 0.7813 - val_weighted_accuracy: 0.7813\n",
      "Epoch 58/120\n",
      "468/468 [==============================] - 3s 5ms/step - loss: 0.6349 - accuracy: 0.7984 - weighted_accuracy: 0.8247 - val_loss: 0.4013 - val_accuracy: 0.7963 - val_weighted_accuracy: 0.7963\n",
      "Epoch 59/120\n",
      "468/468 [==============================] - 2s 5ms/step - loss: 0.6346 - accuracy: 0.7987 - weighted_accuracy: 0.8247 - val_loss: 0.4791 - val_accuracy: 0.7611 - val_weighted_accuracy: 0.7611\n",
      "Epoch 60/120\n",
      "468/468 [==============================] - 2s 5ms/step - loss: 0.6344 - accuracy: 0.7983 - weighted_accuracy: 0.8247 - val_loss: 0.4098 - val_accuracy: 0.7942 - val_weighted_accuracy: 0.7942\n",
      "Epoch 61/120\n",
      "468/468 [==============================] - 2s 5ms/step - loss: 0.6339 - accuracy: 0.7989 - weighted_accuracy: 0.8249 - val_loss: 0.4324 - val_accuracy: 0.7836 - val_weighted_accuracy: 0.7836\n",
      "Epoch 62/120\n",
      "468/468 [==============================] - 3s 6ms/step - loss: 0.6338 - accuracy: 0.7993 - weighted_accuracy: 0.8251 - val_loss: 0.4360 - val_accuracy: 0.7841 - val_weighted_accuracy: 0.7841\n",
      "Epoch 63/120\n",
      "468/468 [==============================] - 3s 5ms/step - loss: 0.6333 - accuracy: 0.7993 - weighted_accuracy: 0.8252 - val_loss: 0.4532 - val_accuracy: 0.7738 - val_weighted_accuracy: 0.7738\n",
      "Epoch 64/120\n",
      "468/468 [==============================] - 3s 6ms/step - loss: 0.6336 - accuracy: 0.7991 - weighted_accuracy: 0.8253 - val_loss: 0.4189 - val_accuracy: 0.7906 - val_weighted_accuracy: 0.7906\n",
      "Epoch 65/120\n",
      "468/468 [==============================] - 3s 5ms/step - loss: 0.6330 - accuracy: 0.7998 - weighted_accuracy: 0.8255 - val_loss: 0.4160 - val_accuracy: 0.7917 - val_weighted_accuracy: 0.7917\n",
      "Epoch 66/120\n",
      "468/468 [==============================] - 3s 6ms/step - loss: 0.6329 - accuracy: 0.8002 - weighted_accuracy: 0.8257 - val_loss: 0.4778 - val_accuracy: 0.7655 - val_weighted_accuracy: 0.7655\n",
      "Epoch 67/120\n",
      "468/468 [==============================] - 2s 5ms/step - loss: 0.6326 - accuracy: 0.8002 - weighted_accuracy: 0.8261 - val_loss: 0.4137 - val_accuracy: 0.7950 - val_weighted_accuracy: 0.7950\n",
      "Epoch 68/120\n",
      "468/468 [==============================] - 3s 5ms/step - loss: 0.6323 - accuracy: 0.8001 - weighted_accuracy: 0.8257 - val_loss: 0.4436 - val_accuracy: 0.7805 - val_weighted_accuracy: 0.7805\n",
      "Epoch 69/120\n",
      "468/468 [==============================] - 2s 5ms/step - loss: 0.6324 - accuracy: 0.8006 - weighted_accuracy: 0.8258 - val_loss: 0.4255 - val_accuracy: 0.7915 - val_weighted_accuracy: 0.7915\n",
      "Epoch 70/120\n",
      "468/468 [==============================] - 2s 5ms/step - loss: 0.6322 - accuracy: 0.8010 - weighted_accuracy: 0.8262 - val_loss: 0.4182 - val_accuracy: 0.7924 - val_weighted_accuracy: 0.7924\n",
      "Epoch 71/120\n",
      "468/468 [==============================] - 2s 5ms/step - loss: 0.6317 - accuracy: 0.8009 - weighted_accuracy: 0.8261 - val_loss: 0.4051 - val_accuracy: 0.7994 - val_weighted_accuracy: 0.7994\n",
      "Epoch 72/120\n",
      "468/468 [==============================] - 2s 5ms/step - loss: 0.6317 - accuracy: 0.8012 - weighted_accuracy: 0.8264 - val_loss: 0.4244 - val_accuracy: 0.7913 - val_weighted_accuracy: 0.7913\n",
      "Epoch 73/120\n",
      "468/468 [==============================] - 2s 5ms/step - loss: 0.6314 - accuracy: 0.8018 - weighted_accuracy: 0.8267 - val_loss: 0.4067 - val_accuracy: 0.7988 - val_weighted_accuracy: 0.7988\n",
      "Epoch 74/120\n",
      "468/468 [==============================] - 2s 4ms/step - loss: 0.6312 - accuracy: 0.8015 - weighted_accuracy: 0.8265 - val_loss: 0.4486 - val_accuracy: 0.7800 - val_weighted_accuracy: 0.7800\n",
      "Epoch 75/120\n",
      "468/468 [==============================] - 2s 4ms/step - loss: 0.6311 - accuracy: 0.8012 - weighted_accuracy: 0.8263 - val_loss: 0.4091 - val_accuracy: 0.7993 - val_weighted_accuracy: 0.7993\n",
      "Epoch 76/120\n",
      "468/468 [==============================] - 2s 4ms/step - loss: 0.6308 - accuracy: 0.8014 - weighted_accuracy: 0.8261 - val_loss: 0.4010 - val_accuracy: 0.8029 - val_weighted_accuracy: 0.8029\n",
      "Epoch 77/120\n",
      "468/468 [==============================] - 2s 4ms/step - loss: 0.6307 - accuracy: 0.8022 - weighted_accuracy: 0.8268 - val_loss: 0.4182 - val_accuracy: 0.7957 - val_weighted_accuracy: 0.7957\n",
      "Epoch 78/120\n",
      "468/468 [==============================] - 2s 4ms/step - loss: 0.6305 - accuracy: 0.8024 - weighted_accuracy: 0.8268 - val_loss: 0.4374 - val_accuracy: 0.7873 - val_weighted_accuracy: 0.7873\n",
      "Epoch 79/120\n",
      "468/468 [==============================] - 2s 4ms/step - loss: 0.6303 - accuracy: 0.8020 - weighted_accuracy: 0.8267 - val_loss: 0.4167 - val_accuracy: 0.7970 - val_weighted_accuracy: 0.7970\n",
      "Epoch 80/120\n",
      "468/468 [==============================] - 2s 4ms/step - loss: 0.6299 - accuracy: 0.8022 - weighted_accuracy: 0.8269 - val_loss: 0.4052 - val_accuracy: 0.8020 - val_weighted_accuracy: 0.8020\n",
      "Epoch 81/120\n",
      "468/468 [==============================] - 2s 4ms/step - loss: 0.6298 - accuracy: 0.8029 - weighted_accuracy: 0.8268 - val_loss: 0.4156 - val_accuracy: 0.7978 - val_weighted_accuracy: 0.7978\n",
      "Epoch 82/120\n",
      "468/468 [==============================] - 2s 4ms/step - loss: 0.6302 - accuracy: 0.8025 - weighted_accuracy: 0.8271 - val_loss: 0.4040 - val_accuracy: 0.8029 - val_weighted_accuracy: 0.8029\n",
      "Epoch 83/120\n",
      "468/468 [==============================] - 2s 4ms/step - loss: 0.6295 - accuracy: 0.8032 - weighted_accuracy: 0.8273 - val_loss: 0.4142 - val_accuracy: 0.7980 - val_weighted_accuracy: 0.7980\n",
      "Epoch 84/120\n",
      "468/468 [==============================] - 2s 4ms/step - loss: 0.6294 - accuracy: 0.8029 - weighted_accuracy: 0.8274 - val_loss: 0.4360 - val_accuracy: 0.7864 - val_weighted_accuracy: 0.7864\n",
      "Epoch 85/120\n",
      "468/468 [==============================] - 2s 4ms/step - loss: 0.6293 - accuracy: 0.8032 - weighted_accuracy: 0.8273 - val_loss: 0.4507 - val_accuracy: 0.7797 - val_weighted_accuracy: 0.7797\n",
      "Epoch 86/120\n",
      "468/468 [==============================] - 2s 4ms/step - loss: 0.6291 - accuracy: 0.8031 - weighted_accuracy: 0.8273 - val_loss: 0.4087 - val_accuracy: 0.8024 - val_weighted_accuracy: 0.8024\n",
      "Epoch 87/120\n",
      "468/468 [==============================] - 2s 4ms/step - loss: 0.6290 - accuracy: 0.8038 - weighted_accuracy: 0.8275 - val_loss: 0.4153 - val_accuracy: 0.7965 - val_weighted_accuracy: 0.7965\n",
      "Epoch 88/120\n",
      "468/468 [==============================] - 2s 4ms/step - loss: 0.6291 - accuracy: 0.8032 - weighted_accuracy: 0.8273 - val_loss: 0.4154 - val_accuracy: 0.7982 - val_weighted_accuracy: 0.7982\n",
      "Epoch 89/120\n",
      "468/468 [==============================] - 2s 4ms/step - loss: 0.6287 - accuracy: 0.8038 - weighted_accuracy: 0.8273 - val_loss: 0.4292 - val_accuracy: 0.7913 - val_weighted_accuracy: 0.7913\n",
      "Epoch 90/120\n",
      "468/468 [==============================] - 2s 4ms/step - loss: 0.6285 - accuracy: 0.8038 - weighted_accuracy: 0.8274 - val_loss: 0.4274 - val_accuracy: 0.7923 - val_weighted_accuracy: 0.7923\n",
      "Epoch 91/120\n",
      "468/468 [==============================] - 2s 4ms/step - loss: 0.6281 - accuracy: 0.8041 - weighted_accuracy: 0.8278 - val_loss: 0.4394 - val_accuracy: 0.7880 - val_weighted_accuracy: 0.7880\n",
      "Epoch 92/120\n",
      "468/468 [==============================] - 2s 4ms/step - loss: 0.6284 - accuracy: 0.8040 - weighted_accuracy: 0.8275 - val_loss: 0.4561 - val_accuracy: 0.7775 - val_weighted_accuracy: 0.7775\n",
      "Epoch 93/120\n",
      "468/468 [==============================] - 2s 4ms/step - loss: 0.6281 - accuracy: 0.8041 - weighted_accuracy: 0.8281 - val_loss: 0.4369 - val_accuracy: 0.7894 - val_weighted_accuracy: 0.7894\n",
      "Epoch 94/120\n",
      "468/468 [==============================] - 2s 5ms/step - loss: 0.6279 - accuracy: 0.8041 - weighted_accuracy: 0.8277 - val_loss: 0.4435 - val_accuracy: 0.7844 - val_weighted_accuracy: 0.7844\n",
      "Epoch 95/120\n",
      "468/468 [==============================] - 2s 4ms/step - loss: 0.6280 - accuracy: 0.8045 - weighted_accuracy: 0.8279 - val_loss: 0.4296 - val_accuracy: 0.7926 - val_weighted_accuracy: 0.7926\n",
      "Epoch 96/120\n",
      "468/468 [==============================] - 2s 4ms/step - loss: 0.6276 - accuracy: 0.8043 - weighted_accuracy: 0.8277 - val_loss: 0.4139 - val_accuracy: 0.8016 - val_weighted_accuracy: 0.8016\n",
      "Epoch 97/120\n",
      "468/468 [==============================] - 2s 3ms/step - loss: 0.6275 - accuracy: 0.8048 - weighted_accuracy: 0.8282 - val_loss: 0.4502 - val_accuracy: 0.7836 - val_weighted_accuracy: 0.7836\n",
      "Epoch 98/120\n",
      "468/468 [==============================] - 2s 4ms/step - loss: 0.6272 - accuracy: 0.8050 - weighted_accuracy: 0.8281 - val_loss: 0.4258 - val_accuracy: 0.7935 - val_weighted_accuracy: 0.7935\n",
      "Epoch 99/120\n",
      "468/468 [==============================] - 2s 4ms/step - loss: 0.6276 - accuracy: 0.8045 - weighted_accuracy: 0.8276 - val_loss: 0.4074 - val_accuracy: 0.8030 - val_weighted_accuracy: 0.8030\n",
      "Epoch 100/120\n",
      "468/468 [==============================] - 2s 4ms/step - loss: 0.6275 - accuracy: 0.8049 - weighted_accuracy: 0.8279 - val_loss: 0.4399 - val_accuracy: 0.7878 - val_weighted_accuracy: 0.7878\n",
      "Epoch 101/120\n",
      "468/468 [==============================] - 2s 4ms/step - loss: 0.6270 - accuracy: 0.8049 - weighted_accuracy: 0.8279 - val_loss: 0.4319 - val_accuracy: 0.7924 - val_weighted_accuracy: 0.7924\n",
      "Epoch 102/120\n",
      "468/468 [==============================] - 2s 4ms/step - loss: 0.6269 - accuracy: 0.8047 - weighted_accuracy: 0.8278 - val_loss: 0.4311 - val_accuracy: 0.7938 - val_weighted_accuracy: 0.7938\n",
      "Epoch 103/120\n",
      "468/468 [==============================] - 2s 4ms/step - loss: 0.6270 - accuracy: 0.8052 - weighted_accuracy: 0.8282 - val_loss: 0.4228 - val_accuracy: 0.7972 - val_weighted_accuracy: 0.7972\n",
      "Epoch 104/120\n",
      "468/468 [==============================] - 2s 4ms/step - loss: 0.6270 - accuracy: 0.8055 - weighted_accuracy: 0.8283 - val_loss: 0.4309 - val_accuracy: 0.7941 - val_weighted_accuracy: 0.7941\n",
      "Epoch 105/120\n",
      "468/468 [==============================] - 2s 4ms/step - loss: 0.6269 - accuracy: 0.8053 - weighted_accuracy: 0.8279 - val_loss: 0.4117 - val_accuracy: 0.8033 - val_weighted_accuracy: 0.8033\n",
      "Epoch 106/120\n",
      "468/468 [==============================] - 2s 4ms/step - loss: 0.6265 - accuracy: 0.8054 - weighted_accuracy: 0.8282 - val_loss: 0.4311 - val_accuracy: 0.7939 - val_weighted_accuracy: 0.7939\n",
      "Epoch 107/120\n",
      "468/468 [==============================] - 2s 4ms/step - loss: 0.6263 - accuracy: 0.8054 - weighted_accuracy: 0.8281 - val_loss: 0.4019 - val_accuracy: 0.8069 - val_weighted_accuracy: 0.8069\n",
      "Epoch 108/120\n",
      "468/468 [==============================] - 2s 4ms/step - loss: 0.6263 - accuracy: 0.8056 - weighted_accuracy: 0.8285 - val_loss: 0.4183 - val_accuracy: 0.7998 - val_weighted_accuracy: 0.7998\n",
      "Epoch 109/120\n",
      "468/468 [==============================] - 2s 4ms/step - loss: 0.6265 - accuracy: 0.8054 - weighted_accuracy: 0.8280 - val_loss: 0.4306 - val_accuracy: 0.7947 - val_weighted_accuracy: 0.7947\n",
      "Epoch 110/120\n",
      "468/468 [==============================] - 2s 4ms/step - loss: 0.6259 - accuracy: 0.8058 - weighted_accuracy: 0.8285 - val_loss: 0.4293 - val_accuracy: 0.7948 - val_weighted_accuracy: 0.7948\n",
      "Epoch 111/120\n",
      "468/468 [==============================] - 2s 4ms/step - loss: 0.6262 - accuracy: 0.8054 - weighted_accuracy: 0.8283 - val_loss: 0.3933 - val_accuracy: 0.8132 - val_weighted_accuracy: 0.8132\n",
      "Epoch 112/120\n",
      "468/468 [==============================] - 2s 4ms/step - loss: 0.6259 - accuracy: 0.8060 - weighted_accuracy: 0.8283 - val_loss: 0.4366 - val_accuracy: 0.7894 - val_weighted_accuracy: 0.7894\n",
      "Epoch 113/120\n",
      "468/468 [==============================] - 2s 4ms/step - loss: 0.6257 - accuracy: 0.8058 - weighted_accuracy: 0.8284 - val_loss: 0.4144 - val_accuracy: 0.8012 - val_weighted_accuracy: 0.8012\n",
      "Epoch 114/120\n",
      "468/468 [==============================] - 2s 5ms/step - loss: 0.6259 - accuracy: 0.8057 - weighted_accuracy: 0.8284 - val_loss: 0.4376 - val_accuracy: 0.7918 - val_weighted_accuracy: 0.7918\n",
      "Epoch 115/120\n",
      "468/468 [==============================] - 2s 5ms/step - loss: 0.6258 - accuracy: 0.8061 - weighted_accuracy: 0.8289 - val_loss: 0.4126 - val_accuracy: 0.8015 - val_weighted_accuracy: 0.8015\n",
      "Epoch 116/120\n",
      "468/468 [==============================] - 2s 4ms/step - loss: 0.6253 - accuracy: 0.8058 - weighted_accuracy: 0.8284 - val_loss: 0.4007 - val_accuracy: 0.8085 - val_weighted_accuracy: 0.8085\n",
      "Epoch 117/120\n",
      "468/468 [==============================] - 2s 4ms/step - loss: 0.6254 - accuracy: 0.8058 - weighted_accuracy: 0.8285 - val_loss: 0.4232 - val_accuracy: 0.7987 - val_weighted_accuracy: 0.7987\n",
      "Epoch 118/120\n",
      "468/468 [==============================] - 2s 4ms/step - loss: 0.6254 - accuracy: 0.8065 - weighted_accuracy: 0.8290 - val_loss: 0.4198 - val_accuracy: 0.8009 - val_weighted_accuracy: 0.8009\n",
      "Epoch 119/120\n",
      "468/468 [==============================] - 2s 4ms/step - loss: 0.6254 - accuracy: 0.8064 - weighted_accuracy: 0.8291 - val_loss: 0.4015 - val_accuracy: 0.8082 - val_weighted_accuracy: 0.8082\n",
      "Epoch 120/120\n",
      "468/468 [==============================] - 2s 4ms/step - loss: 0.6253 - accuracy: 0.8062 - weighted_accuracy: 0.8288 - val_loss: 0.4464 - val_accuracy: 0.7865 - val_weighted_accuracy: 0.7865\n"
     ]
    }
   ],
   "source": [
    "epochs = 120\n",
    "class_weight = {0 : 3 , 1: 1}\n",
    "history = model.fit(X, encoded_Y , epochs=epochs, batch_size =256, class_weight=class_weight, validation_split=0.1, callbacks=[csv_logger])"
   ]
  },
  {
   "cell_type": "markdown",
   "metadata": {},
   "source": [
    "### 3. Plotting History"
   ]
  },
  {
   "cell_type": "code",
   "execution_count": 8,
   "metadata": {},
   "outputs": [],
   "source": [
    "import matplotlib.pyplot as plt"
   ]
  },
  {
   "cell_type": "code",
   "execution_count": 11,
   "metadata": {},
   "outputs": [
    {
     "data": {
      "image/png": "[encoded data removed]",
      "text/plain": [
       "<Figure size 432x288 with 1 Axes>"
      ]
     },
     "metadata": {
      "needs_background": "light"
     },
     "output_type": "display_data"
    }
   ],
   "source": [
    "#  \"Accuracy\"\n",
    "plt.plot(history.history['accuracy'])\n",
    "plt.plot(history.history['val_accuracy'])\n",
    "plt.title('model accuracy')\n",
    "plt.ylabel('accuracy')\n",
    "plt.xlabel('epoch')\n",
    "plt.legend(['train', 'validation'], loc='lower right')\n",
    "plt.show()"
   ]
  },
  {
   "cell_type": "code",
   "execution_count": 13,
   "metadata": {},
   "outputs": [
    {
     "data": {
      "image/png": "[encoded data removed]",
      "text/plain": [
       "<Figure size 432x288 with 1 Axes>"
      ]
     },
     "metadata": {
      "needs_background": "light"
     },
     "output_type": "display_data"
    }
   ],
   "source": [
    "# \"Loss\"\n",
    "plt.plot(history.history['loss'])\n",
    "plt.plot(history.history['val_loss'])\n",
    "plt.title('model loss')\n",
    "plt.ylabel('loss')\n",
    "plt.xlabel('epoch')\n",
    "plt.legend(['train', 'validation'], loc='upper right')\n",
    "plt.show()"
   ]
  },
  {
   "cell_type": "markdown",
   "metadata": {},
   "source": [
    "# SVM"
   ]
  },
  {
   "cell_type": "code",
   "execution_count": 9,
   "metadata": {},
   "outputs": [],
   "source": [
    "############# Read Data from the 5 components of PCA ############\n",
    "# Import dataset\n",
    "data = pd.read_csv(\"./data/reduced_pca_5.csv\")\n",
    "\n",
    "# Add label to the dataset, the first 36499 are electron neutrinos (-1 class) and the others 96565 are muon neutrinos (+1)\n",
    "# Seperate neutrinos from electrons and muons\n",
    "electron = data.head(36499)\n",
    "muon = data.tail(96565)\n",
    "\n",
    "del data\n",
    "\n",
    "electron[\"neutrino\"] = -1\n",
    "muon[\"neutrino\"] = 1\n",
    "\n",
    "data = electron.append(muon)\n",
    "\n",
    "del electron\n",
    "del muon\n",
    "\n",
    "############## Splitting Train and test set\n",
    "X = data.iloc[:,0:5]\n",
    "y = data[\"neutrino\"]\n",
    "\n",
    "X_train, X_test, y_train, y_test = train_test_split(X, y, test_size=0.3, random_state=0)\n",
    "\n",
    "# Convert to numpy array\n",
    "X_train = X_train.to_numpy()\n",
    "y_train = y_train.to_numpy()\n",
    "\n",
    "X_test = X_test.to_numpy()\n",
    "y_test = y_test.to_numpy()"
   ]
  },
  {
   "cell_type": "markdown",
   "metadata": {},
   "source": [
    "### 1.Linear Classifier"
   ]
  },
  {
   "cell_type": "code",
   "execution_count": 11,
   "metadata": {},
   "outputs": [],
   "source": [
    "# Initialize SVM classifier\n",
    "clf = svm.SVC(kernel='linear')"
   ]
  },
  {
   "cell_type": "code",
   "execution_count": 12,
   "metadata": {},
   "outputs": [],
   "source": [
    "# Fit the model\n",
    "clf = clf.fit(X_train, y_train)"
   ]
  },
  {
   "cell_type": "code",
   "execution_count": null,
   "metadata": {},
   "outputs": [],
   "source": [
    "predictions = clf.predict(X_test)"
   ]
  }
 ],
 "metadata": {
  "interpreter": {
   "hash": "afe7fc5ace64331e40d6be8e9f3a46b8fbc38e09e39291faa8ba417200cc8f34"
  },
  "kernelspec": {
   "display_name": "Python 3.8.3 64-bit ('base': conda)",
   "language": "python",
   "name": "python3"
  },
  "language_info": {
   "codemirror_mode": {
    "name": "ipython",
    "version": 3
   },
   "file_extension": ".py",
   "mimetype": "text/x-python",
   "name": "python",
   "nbconvert_exporter": "python",
   "pygments_lexer": "ipython3",
   "version": "3.8.3"
  },
  "orig_nbformat": 4
 },
 "nbformat": 4,
 "nbformat_minor": 2
}
